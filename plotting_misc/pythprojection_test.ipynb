{
 "cells": [
  {
   "cell_type": "code",
   "execution_count": 1,
   "id": "fdf86030-b68b-4724-ad00-450ff6f3d091",
   "metadata": {},
   "outputs": [],
   "source": [
    "import matplotlib.pyplot as plt\n",
    "import matplotlib as mpl\n",
    "import mplhep as hep\n",
    "from matplotlib import transforms\n",
    "import pandas as pd\n",
    "import numpy as np\n",
    "import boost_histogram as bh"
   ]
  },
  {
   "cell_type": "code",
   "execution_count": 2,
   "id": "b75a3d1f-5f09-4c39-8444-0fe8b3964e05",
   "metadata": {},
   "outputs": [
    {
     "data": {
      "text/plain": [
       "Histogram(\n",
       "  Regular(20, -1, 1, metadata='x'),\n",
       "  Regular(20, -1, 1, metadata='y'),\n",
       "  storage=Double()) # Sum: 99111.0 (100000.0 with flow)"
      ]
     },
     "execution_count": 2,
     "metadata": {},
     "output_type": "execute_result"
    }
   ],
   "source": [
    "# create boost histogram\n",
    "\n",
    "v1 = np.random.normal(size=(2, 100_000), scale=0.35)\n",
    "hist = bh.Histogram(\n",
    "    bh.axis.Regular(20, -1, 1, metadata=\"x\"),\n",
    "    bh.axis.Regular(20, -1, 1, metadata=\"y\")\n",
    ")\n",
    "hist.fill(*v1)\n",
    "# pd.DataFrame(hist.to_numpy()[0])\n",
    "# print(hist.view())\n",
    "# list(hist.axes.edges[0])"
   ]
  },
  {
   "cell_type": "code",
   "execution_count": 3,
   "id": "880ba850-98f1-4095-8836-3bca0d672886",
   "metadata": {},
   "outputs": [],
   "source": [
    "from plot_classes import EmptyPlot\n",
    "\n",
    "\n",
    "class PythProjection(EmptyPlot):\n",
    "    \n",
    "    \n",
    "    def __init__(self, figtitle=None, **kwargs):\n",
    "        \n",
    "        # self.config_rcParams({\"axes.titlesize\": 'xx-small'\n",
    "        # }) # rc params dont work for some reason...\n",
    "        \n",
    "        super().__init__(layout=(2,2), **kwargs)\n",
    "        self.create_canvas()\n",
    "        self.make_grid(hspace=0.02, wspace=0.02, height_ratios=[1,4], width_ratios=[4,1])\n",
    "        self.main_ax = self.make_subplot(1, 2, 0, 1)\n",
    "        self.h_ax = self.make_subplot(0, 1, 0, 1)\n",
    "        self.v_ax = self.make_subplot(1, 2, 1, 2)\n",
    "        self.set_color() # set default colormap\n",
    "        self.mainax_fsize = 12\n",
    "        \n",
    "        # self.titledict = {\"mainx\" : '', # x label of main plot\n",
    "        #                   \"mainy\" : '', # y label of main plot\n",
    "        #                   \"topy\"  : '', # y label of hotizontal projection plot\n",
    "        #                   \"rightx\": ''  # x label of verical projection plot\n",
    "        # }\n",
    "\n",
    "        \n",
    "    def fill(self, bh_obj):\n",
    "        \n",
    "        self.container2d.append(bh_obj)\n",
    "        self.store_data()\n",
    "        \n",
    "        \n",
    "    def store_data(self):\n",
    "        \n",
    "        self.bh_data = self.container2d[0]\n",
    "        self.pd_data = pd.DataFrame(self.bh_data.to_numpy()[0])\n",
    "        self.xsum = self.pd_data.sum(axis=0).to_list()\n",
    "        self.ysum = self.pd_data.sum(axis=1).to_list()\n",
    "        self.edges = [x for [x] in [list(self.bh_data.axes.edges[0][i]) for i in range(len(self.bh_data.axes.edges[0]))]]\n",
    "        \n",
    "        \n",
    "    def projection_plot(self):\n",
    "        \n",
    "        hep.hist2dplot(self.bh_data, ax=self.main_ax, cbar=False)\n",
    "        hep.histplot(self.xsum, bins=np.linspace(-1, 1, 21), ax=self.h_ax, color='k', zorder=3)\n",
    "        hep.histplot(self.ysum, bins=np.linspace(-1, 1, 21), ax=self.v_ax, color='k', zorder=3, orientation='horizontal')\n",
    "        \n",
    "        # main plot\n",
    "        _range = np.arange(self.edges[0], self.edges[-1]+0.5, 0.5)\n",
    "        label_list = [f\"{x:.1f}\" for x in _range]\n",
    "        self.main_ax.set_xticks(_range)\n",
    "        self.main_ax.set_xticklabels(label_list, fontsize=self.mainax_fsize)\n",
    "        self.main_ax.xaxis.label.set_fontsize(10)\n",
    "        self.main_ax.set_yticks(_range)\n",
    "        self.main_ax.set_yticklabels(label_list, fontsize=self.mainax_fsize)\n",
    "\n",
    "        # modify horizontal plot\n",
    "        self.set_h_ax()\n",
    "        \n",
    "        # modify vertical plot\n",
    "        self.set_v_ax()\n",
    "        \n",
    "        \n",
    "    def set_axis_fontsize(self, value):\n",
    "        # this is the only way since modifying rcParams doesnt work...\n",
    "        self.mainax_fsize = value\n",
    "\n",
    "        \n",
    "    def set_h_ax(self, **hax_kw):\n",
    "        \n",
    "        self.hax_kw = {\"axis\"       :'x',\n",
    "                       \"labelbottom\": False,\n",
    "                       \"labelsize\"  : 5\n",
    "        }\n",
    "        self.hax_kw.update(hax_kw)\n",
    "                \n",
    "        self.h_ax.set_xlim(-1, 1)\n",
    "        self.h_ax.tick_params(**self.hax_kw)\n",
    "        self.h_ax.grid(which='both', zorder=0, alpha=0.5)\n",
    "        self.h_ax.set_axisbelow(True)\n",
    "        \n",
    "        \n",
    "    def set_v_ax(self, **vax_kw):\n",
    "        \n",
    "        self.vax_kw = {\"axis\"     :'y',\n",
    "                       \"labelleft\": False,\n",
    "                       \"labelsize\": 5\n",
    "        }\n",
    "        self.vax_kw.update(vax_kw)\n",
    "                \n",
    "        self.v_ax.set_ylim(-1, 1)\n",
    "        self.v_ax.tick_params(**self.vax_kw)\n",
    "        self.v_ax.grid(which='both', zorder=0, alpha=0.5)\n",
    "        self.v_ax.set_axisbelow(True)\n",
    "        \n",
    "        \n",
    "    def axes_labels(self, **title_dict):\n",
    "        \n",
    "        if isinstance(title_dict, dict):\n",
    "            self.titledict.update(title_dict)\n",
    "            \n",
    "        self.main_ax.set_xlabel(self.titledict[\"mainx\"])\n",
    "        self.main_ax.set_ylabel(self.titledict[\"mainy\"])\n",
    "        self.h_ax.set_ylabel(self.titledict[\"topy\"])\n",
    "        self.v_ax.set_xlabel(self.titledict[\"rightx\"])\n",
    "        \n",
    "        \n",
    "    def display(self):\n",
    "        self.projection_plot()\n",
    "        # self.fig.set_tight_layout(True) # tightlayout might be useful?\n"
   ]
  },
  {
   "cell_type": "code",
   "execution_count": 4,
   "id": "7c6c9c2c-b7bd-406a-98de-e2511e2e9365",
   "metadata": {},
   "outputs": [
    {
     "data": {
      "image/png": "[encoded data removed]",
      "text/plain": [
       "<Figure size 432x432 with 3 Axes>"
      ]
     },
     "metadata": {
      "needs_background": "light"
     },
     "output_type": "display_data"
    }
   ],
   "source": [
    "plot = PythProjection(size=(6,6))\n",
    "plot.fill(hist)\n",
    "# plot.set_axis_fontsize(12)\n",
    "plot.axes_labels(mainy='titley', mainx='titlex')\n",
    "# mpl.rc(\"axes\", titlesize=1)\n",
    "plot.display()"
   ]
  }
 ],
 "metadata": {
  "kernelspec": {
   "display_name": "Python 3 (ipykernel)",
   "language": "python",
   "name": "python3"
  },
  "language_info": {
   "codemirror_mode": {
    "name": "ipython",
    "version": 3
   },
   "file_extension": ".py",
   "mimetype": "text/x-python",
   "name": "python",
   "nbconvert_exporter": "python",
   "pygments_lexer": "ipython3",
   "version": "3.8.11"
  }
 },
 "nbformat": 4,
 "nbformat_minor": 5
}
