{
 "cells": [
  {
   "cell_type": "code",
   "execution_count": 1,
   "id": "ec4e5bec-c3cc-4d2f-9c52-bbef9037eb4e",
   "metadata": {},
   "outputs": [],
   "source": [
    "import boost_histogram as bh\n",
    "from yamlscript_histdata import histdata_parser"
   ]
  }
 ],
 "metadata": {
  "kernelspec": {
   "display_name": "Python 3",
   "language": "python",
   "name": "python3"
  },
  "language_info": {
   "codemirror_mode": {
    "name": "ipython",
    "version": 3
   },
   "file_extension": ".py",
   "mimetype": "text/x-python",
   "name": "python",
   "nbconvert_exporter": "python",
   "pygments_lexer": "ipython3",
   "version": "3.6.8"
  }
 },
 "nbformat": 4,
 "nbformat_minor": 5
}
