{
 "cells": [
  {
   "cell_type": "code",
   "execution_count": 1,
   "id": "17702bd8-794c-4ca0-8036-9fde399bc073",
   "metadata": {},
   "outputs": [],
   "source": [
    "from yamlscript_histdata import histdata_parser\n",
    "import mplhep as hep\n",
    "import matplotlib.pyplot as plt\n",
    "import pandas as pd\n",
    "import boost_histogram as bh\n",
    "import numpy as np"
   ]
  },
  {
   "cell_type": "code",
   "execution_count": 2,
   "id": "0d0337ad-acbd-4a07-ae60-40cfd6de06fa",
   "metadata": {},
   "outputs": [
    {
     "name": "stdout",
     "output_type": "stream",
     "text": [
      "histdata_parser ran in 0.054297070018947124 seconds.\n"
     ]
    }
   ],
   "source": [
    "df1, df2 = histdata_parser(\"CR_ttc_prefit.yaml\")"
   ]
  },
  {
   "cell_type": "code",
   "execution_count": 7,
   "id": "ed796399-2a18-4229-a1bc-bc2fb42829d0",
   "metadata": {},
   "outputs": [
    {
     "data": {
      "text/html": [
       "<div>\n",
       "<style scoped>\n",
       "    .dataframe tbody tr th:only-of-type {\n",
       "        vertical-align: middle;\n",
       "    }\n",
       "\n",
       "    .dataframe tbody tr th {\n",
       "        vertical-align: top;\n",
       "    }\n",
       "\n",
       "    .dataframe thead th {\n",
       "        text-align: right;\n",
       "    }\n",
       "</style>\n",
       "<table border=\"1\" class=\"dataframe\">\n",
       "  <thead>\n",
       "    <tr style=\"text-align: right;\">\n",
       "      <th></th>\n",
       "      <th></th>\n",
       "      <th>Yield</th>\n",
       "    </tr>\n",
       "    <tr>\n",
       "      <th></th>\n",
       "      <th>Name</th>\n",
       "      <th></th>\n",
       "    </tr>\n",
       "  </thead>\n",
       "  <tbody>\n",
       "    <tr>\n",
       "      <th rowspan=\"19\" valign=\"top\">Samples</th>\n",
       "      <th>tH</th>\n",
       "      <td>[0.6777518379661686, 0.48202515103252475, 0.32...</td>\n",
       "    </tr>\n",
       "    <tr>\n",
       "      <th>tWH</th>\n",
       "      <td>[0.8611041195955744, 0.6849249457636786, 0.565...</td>\n",
       "    </tr>\n",
       "    <tr>\n",
       "      <th>t#bar{t} + #geq1b</th>\n",
       "      <td>[1733.5952230273672, 1459.7220791327006, 1243....</td>\n",
       "    </tr>\n",
       "    <tr>\n",
       "      <th>t#bar{t} + #geq1c</th>\n",
       "      <td>[1030.6650788589109, 1121.9675875571738, 1081....</td>\n",
       "    </tr>\n",
       "    <tr>\n",
       "      <th>t#bar{t} + light</th>\n",
       "      <td>[1812.3554490930073, 1868.11989264379, 2284.18...</td>\n",
       "    </tr>\n",
       "    <tr>\n",
       "      <th>t#bar{t} + H</th>\n",
       "      <td>[48.60518250639442, 40.04067687374472, 37.1956...</td>\n",
       "    </tr>\n",
       "    <tr>\n",
       "      <th>t#bar{t} + Z</th>\n",
       "      <td>[26.39513222502811, 25.891754372557813, 23.170...</td>\n",
       "    </tr>\n",
       "    <tr>\n",
       "      <th>t#bar{t} + W</th>\n",
       "      <td>[9.097638901211637, 9.221123801814636, 9.66502...</td>\n",
       "    </tr>\n",
       "    <tr>\n",
       "      <th>tZq</th>\n",
       "      <td>[3.0064648700008876, 2.4274298712699505, 1.887...</td>\n",
       "    </tr>\n",
       "    <tr>\n",
       "      <th>tWZ</th>\n",
       "      <td>[0.04788054892440356, 0.09976182831975486, 0.1...</td>\n",
       "    </tr>\n",
       "    <tr>\n",
       "      <th>Single top Wt</th>\n",
       "      <td>[175.14497458907522, 148.07426668913155, 121.2...</td>\n",
       "    </tr>\n",
       "    <tr>\n",
       "      <th>Single top t-channel</th>\n",
       "      <td>[60.565403275077784, 52.22631627470051, 33.653...</td>\n",
       "    </tr>\n",
       "    <tr>\n",
       "      <th>Single top s-channel</th>\n",
       "      <td>[5.066621098451062, 2.918603468951397, 3.05051...</td>\n",
       "    </tr>\n",
       "    <tr>\n",
       "      <th>W+jets</th>\n",
       "      <td>[77.94189126565779, 69.54620984482469, 53.5506...</td>\n",
       "    </tr>\n",
       "    <tr>\n",
       "      <th>Z+jets</th>\n",
       "      <td>[15.871487030187941, 11.83468536999561, 8.4767...</td>\n",
       "    </tr>\n",
       "    <tr>\n",
       "      <th>VV</th>\n",
       "      <td>[6.323578172776456, 4.3221632420960905, 3.2804...</td>\n",
       "    </tr>\n",
       "    <tr>\n",
       "      <th>other Higgs</th>\n",
       "      <td>[9.9999775265841e-07, 0.7665413752105269, 0.75...</td>\n",
       "    </tr>\n",
       "    <tr>\n",
       "      <th>Rare top</th>\n",
       "      <td>[2.836732332314187, 2.9287473492684235, 2.3056...</td>\n",
       "    </tr>\n",
       "    <tr>\n",
       "      <th>Non-prompt</th>\n",
       "      <td>[84.95362873515114, 76.8663441981189, 82.05425...</td>\n",
       "    </tr>\n",
       "    <tr>\n",
       "      <th rowspan=\"3\" valign=\"top\">Total</th>\n",
       "      <th>Yield</th>\n",
       "      <td>[5094.011223487095, 4898.141133990464, 4989.95...</td>\n",
       "    </tr>\n",
       "    <tr>\n",
       "      <th>UncertaintyUp</th>\n",
       "      <td>[827.5826665452911, 805.426846012266, 826.1614...</td>\n",
       "    </tr>\n",
       "    <tr>\n",
       "      <th>UncertaintyDown</th>\n",
       "      <td>[-827.5826665452911, -805.426846012266, -826.1...</td>\n",
       "    </tr>\n",
       "    <tr>\n",
       "      <th>Data</th>\n",
       "      <th>Yield</th>\n",
       "      <td>[5417, 5168, 5474, 5419, 5314, 5398, 5337, 544...</td>\n",
       "    </tr>\n",
       "  </tbody>\n",
       "</table>\n",
       "</div>"
      ],
      "text/plain": [
       "                                                                          Yield\n",
       "        Name                                                                   \n",
       "Samples tH                    [0.6777518379661686, 0.48202515103252475, 0.32...\n",
       "        tWH                   [0.8611041195955744, 0.6849249457636786, 0.565...\n",
       "        t#bar{t} + #geq1b     [1733.5952230273672, 1459.7220791327006, 1243....\n",
       "        t#bar{t} + #geq1c     [1030.6650788589109, 1121.9675875571738, 1081....\n",
       "        t#bar{t} + light      [1812.3554490930073, 1868.11989264379, 2284.18...\n",
       "        t#bar{t} + H          [48.60518250639442, 40.04067687374472, 37.1956...\n",
       "        t#bar{t} + Z          [26.39513222502811, 25.891754372557813, 23.170...\n",
       "        t#bar{t} + W          [9.097638901211637, 9.221123801814636, 9.66502...\n",
       "        tZq                   [3.0064648700008876, 2.4274298712699505, 1.887...\n",
       "        tWZ                   [0.04788054892440356, 0.09976182831975486, 0.1...\n",
       "        Single top Wt         [175.14497458907522, 148.07426668913155, 121.2...\n",
       "        Single top t-channel  [60.565403275077784, 52.22631627470051, 33.653...\n",
       "        Single top s-channel  [5.066621098451062, 2.918603468951397, 3.05051...\n",
       "        W+jets                [77.94189126565779, 69.54620984482469, 53.5506...\n",
       "        Z+jets                [15.871487030187941, 11.83468536999561, 8.4767...\n",
       "        VV                    [6.323578172776456, 4.3221632420960905, 3.2804...\n",
       "        other Higgs           [9.9999775265841e-07, 0.7665413752105269, 0.75...\n",
       "        Rare top              [2.836732332314187, 2.9287473492684235, 2.3056...\n",
       "        Non-prompt            [84.95362873515114, 76.8663441981189, 82.05425...\n",
       "Total   Yield                 [5094.011223487095, 4898.141133990464, 4989.95...\n",
       "        UncertaintyUp         [827.5826665452911, 805.426846012266, 826.1614...\n",
       "        UncertaintyDown       [-827.5826665452911, -805.426846012266, -826.1...\n",
       "Data    Yield                 [5417, 5168, 5474, 5419, 5314, 5398, 5337, 544..."
      ]
     },
     "execution_count": 7,
     "metadata": {},
     "output_type": "execute_result"
    }
   ],
   "source": [
    "df1"
   ]
  },
  {
   "cell_type": "code",
   "execution_count": 9,
   "id": "0507f518-bcbe-45d7-90b9-30110140523d",
   "metadata": {},
   "outputs": [],
   "source": [
    "values = df1.loc[['Samples'], 'Yield'][2]\n",
    "edges = df2.loc[['BinEdges'], 0][0]\n",
    "\n",
    "centres = 0.5*(np.array(edges[1:]) + np.array(edges[:-1]))"
   ]
  },
  {
   "cell_type": "code",
   "execution_count": 6,
   "id": "c7aaf881-2eb4-4099-983d-46e1e69418f5",
   "metadata": {},
   "outputs": [
    {
     "data": {
      "text/plain": [
       "[0.6777518379661686,\n",
       " 0.48202515103252475,\n",
       " 0.32095558377219036,\n",
       " 0.36354299180894417,\n",
       " 0.2666929262006992,\n",
       " 0.2595304332772785,\n",
       " 0.09246441180020554,\n",
       " 1e-06,\n",
       " 0.08984486815595626,\n",
       " 0.1356263388970928]"
      ]
     },
     "execution_count": 6,
     "metadata": {},
     "output_type": "execute_result"
    }
   ],
   "source": [
    "values"
   ]
  },
  {
   "cell_type": "code",
   "execution_count": 10,
   "id": "754d7518-6ee8-4c76-9ede-65ca8269d209",
   "metadata": {},
   "outputs": [
    {
     "data": {
      "text/plain": [
       "[StepArtists(step=<matplotlib.lines.Line2D object at 0x7f545d385a90>, errorbar=None, legend_artist=None)]"
      ]
     },
     "execution_count": 10,
     "metadata": {},
     "output_type": "execute_result"
    },
    {
     "data": {
      "image/png": "[encoded data removed]",
      "text/plain": [
       "<Figure size 432x288 with 1 Axes>"
      ]
     },
     "metadata": {
      "needs_background": "light"
     },
     "output_type": "display_data"
    }
   ],
   "source": [
    "histogram = bh.Histogram(bh.axis.Variable(edges))\n",
    "histogram.fill(centres, weight=values)\n",
    "\n",
    "hep.histplot(histogram)\n",
    "\n",
    "# canvas.plot(<mpl_hist>)"
   ]
  }
 ],
 "metadata": {
  "kernelspec": {
   "display_name": "Python 3",
   "language": "python",
   "name": "python3"
  },
  "language_info": {
   "codemirror_mode": {
    "name": "ipython",
    "version": 3
   },
   "file_extension": ".py",
   "mimetype": "text/x-python",
   "name": "python",
   "nbconvert_exporter": "python",
   "pygments_lexer": "ipython3",
   "version": "3.6.8"
  }
 },
 "nbformat": 4,
 "nbformat_minor": 5
}
