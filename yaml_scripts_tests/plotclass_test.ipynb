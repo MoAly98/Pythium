{
 "cells": [
  {
   "cell_type": "code",
   "execution_count": 1,
   "id": "17702bd8-794c-4ca0-8036-9fde399bc073",
   "metadata": {},
   "outputs": [],
   "source": [
    "from yamlscript_histdata import histdata_parser\n",
    "import mplhep as hep\n",
    "import matplotlib.pyplot as plt\n",
    "import pandas as pd\n",
    "import boost_histogram as bh\n",
    "import numpy as np"
   ]
  },
  {
   "cell_type": "code",
   "execution_count": 2,
   "id": "532dc438-9e29-4c33-8a58-d09048096882",
   "metadata": {},
   "outputs": [
    {
     "data": {
      "text/plain": [
       "\"\\nthe desired use case:\\n\\n                        ┌--> this is a boost-histogram object for now\\n                        |\\nhisto1 = Hist1D(histogram-object, title, fill=True, color)\\nhisto1.make_grid()\\nhisto1.axis.set_xaxis(hide=True)\\nhisto1.axis.set_yaxis(axis-name)\\nhisto1.title_loc(where)\\nhisto1.display() -> this will draw the plot using mplhep\\n\\nhisto2 = PullPlotHist(histogram-object, title, color1, color2) -> the pull plot will be a sideways histogram\\nhisto1.make_grid()\\nhisto2.line.set_linewidth(number)\\nhisto2.marker.set_markersize(number)\\nhisto2.title_loc(where)\\nhisto2.display()\\n\\nhisto3 = CorrMatrix(histogram-object, title, color_palette)\\nhisto3.set_fontsize(number) -> size of numbers inside the corr matrix\\nhisto3.line.set_style('--') -> style of lines that separate each element in the matrix\\nhisto3.display()\\n\""
      ]
     },
     "execution_count": 2,
     "metadata": {},
     "output_type": "execute_result"
    }
   ],
   "source": [
    "\"\"\"\n",
    "the desired use case:\n",
    "\n",
    "                        ┌--> this is a boost-histogram object for now\n",
    "                        |\n",
    "histo1 = Hist1D(histogram-object, title, fill=True, color)\n",
    "histo1.make_grid()\n",
    "histo1.axis.set_xaxis(hide=True)\n",
    "histo1.axis.set_yaxis(axis-name)\n",
    "histo1.title_loc(where)\n",
    "histo1.display() -> this will draw the plot using mplhep\n",
    "\n",
    "histo2 = PullPlotHist(histogram-object, title, color1, color2) -> the pull plot will be a sideways histogram\n",
    "histo1.make_grid()\n",
    "histo2.line.set_linewidth(number)\n",
    "histo2.marker.set_markersize(number)\n",
    "histo2.title_loc(where)\n",
    "histo2.display()\n",
    "\n",
    "histo3 = CorrMatrix(histogram-object, title, color_palette)\n",
    "histo3.set_fontsize(number) -> size of numbers inside the corr matrix\n",
    "histo3.line.set_style('--') -> style of lines that separate each element in the matrix\n",
    "histo3.display()\n",
    "\"\"\""
   ]
  },
  {
   "cell_type": "code",
   "execution_count": 3,
   "id": "0d0337ad-acbd-4a07-ae60-40cfd6de06fa",
   "metadata": {},
   "outputs": [
    {
     "name": "stdout",
     "output_type": "stream",
     "text": [
      "histdata_parser ran in 62 ms.\n"
     ]
    }
   ],
   "source": [
    "df1, df2 = histdata_parser(\"CR_ttc_prefit.yaml\")"
   ]
  },
  {
   "cell_type": "code",
   "execution_count": 4,
   "id": "0507f518-bcbe-45d7-90b9-30110140523d",
   "metadata": {},
   "outputs": [],
   "source": [
    "values = df1.loc[['Samples'],'Yield'][2]\n",
    "edges = df2.loc[['BinEdges'],0][0]\n",
    "\n",
    "centres = 0.5*(np.array(edges[1:]) + np.array(edges[:-1]))"
   ]
  },
  {
   "cell_type": "code",
   "execution_count": 13,
   "id": "cebd7191-9bed-4e06-8d0d-0f326364e4a8",
   "metadata": {},
   "outputs": [],
   "source": [
    "class BasicHisto(object): # inherit from object to make it a new-style class\n",
    "    \n",
    "    def __init__(self, bh, name=None, title=None):\n",
    "        \n",
    "        self.name = name\n",
    "        self.title = title\n",
    "        \n",
    "        self.axes = bh.axes\n",
    "        self.bin_conts = bh.values().tolist()\n",
    "        self.bin_edges = np.array(bh.axes[0]).tolist()\n",
    "        self.bin_centers = bh.axes.centers.tolist()\n",
    "    \n",
    "    \n",
    "class Histo1D(BasicHisto):\n",
    "    \n",
    "    def __init__(self, bh, name=None, title=None, fill=True):\n",
    "        super().__init__(bh, name=name, title=title)\n",
    "    \n",
    "    def display(self, ax=None):    \n",
    "        hep.histplot(self.bin_conts, bins=self.bin_edges, ax=ax)\n",
    "        if not fill:\n",
    "            hep.histplot(bh, histtype=\"step\", ax=ax)"
   ]
  },
  {
   "cell_type": "code",
   "execution_count": 14,
   "id": "34cb1957-d194-45a8-8cfb-ff308e810296",
   "metadata": {},
   "outputs": [
    {
     "ename": "ValueError",
     "evalue": "Plotting multiple histograms with different binning is not supported",
     "output_type": "error",
     "traceback": [
      "\u001b[0;31m---------------------------------------------------------------------------\u001b[0m",
      "\u001b[0;31mValueError\u001b[0m                                Traceback (most recent call last)",
      "\u001b[0;32m<ipython-input-14-9319275edda4>\u001b[0m in \u001b[0;36m<module>\u001b[0;34m\u001b[0m\n\u001b[1;32m      5\u001b[0m \u001b[0;34m\u001b[0m\u001b[0m\n\u001b[1;32m      6\u001b[0m \u001b[0;31m# obj.bin_conts, obj.bin_edges, obj.bin_centers\u001b[0m\u001b[0;34m\u001b[0m\u001b[0;34m\u001b[0m\u001b[0;34m\u001b[0m\u001b[0m\n\u001b[0;32m----> 7\u001b[0;31m \u001b[0mobj\u001b[0m\u001b[0;34m.\u001b[0m\u001b[0mdisplay\u001b[0m\u001b[0;34m(\u001b[0m\u001b[0;34m)\u001b[0m\u001b[0;34m\u001b[0m\u001b[0;34m\u001b[0m\u001b[0m\n\u001b[0m",
      "\u001b[0;32m<ipython-input-13-1a147ce13279>\u001b[0m in \u001b[0;36mdisplay\u001b[0;34m(self, ax)\u001b[0m\n\u001b[1;32m     18\u001b[0m \u001b[0;34m\u001b[0m\u001b[0m\n\u001b[1;32m     19\u001b[0m     \u001b[0;32mdef\u001b[0m \u001b[0mdisplay\u001b[0m\u001b[0;34m(\u001b[0m\u001b[0mself\u001b[0m\u001b[0;34m,\u001b[0m \u001b[0max\u001b[0m\u001b[0;34m=\u001b[0m\u001b[0;32mNone\u001b[0m\u001b[0;34m)\u001b[0m\u001b[0;34m:\u001b[0m\u001b[0;34m\u001b[0m\u001b[0;34m\u001b[0m\u001b[0m\n\u001b[0;32m---> 20\u001b[0;31m         \u001b[0mhep\u001b[0m\u001b[0;34m.\u001b[0m\u001b[0mhistplot\u001b[0m\u001b[0;34m(\u001b[0m\u001b[0mself\u001b[0m\u001b[0;34m.\u001b[0m\u001b[0mbin_conts\u001b[0m\u001b[0;34m,\u001b[0m \u001b[0mbins\u001b[0m\u001b[0;34m=\u001b[0m\u001b[0mself\u001b[0m\u001b[0;34m.\u001b[0m\u001b[0mbin_edges\u001b[0m\u001b[0;34m,\u001b[0m \u001b[0max\u001b[0m\u001b[0;34m=\u001b[0m\u001b[0max\u001b[0m\u001b[0;34m)\u001b[0m\u001b[0;34m\u001b[0m\u001b[0;34m\u001b[0m\u001b[0m\n\u001b[0m\u001b[1;32m     21\u001b[0m         \u001b[0;32mif\u001b[0m \u001b[0;32mnot\u001b[0m \u001b[0mfill\u001b[0m\u001b[0;34m:\u001b[0m\u001b[0;34m\u001b[0m\u001b[0;34m\u001b[0m\u001b[0m\n\u001b[1;32m     22\u001b[0m             \u001b[0mhep\u001b[0m\u001b[0;34m.\u001b[0m\u001b[0mhistplot\u001b[0m\u001b[0;34m(\u001b[0m\u001b[0mbh\u001b[0m\u001b[0;34m,\u001b[0m \u001b[0mhisttype\u001b[0m\u001b[0;34m=\u001b[0m\u001b[0;34m\"step\"\u001b[0m\u001b[0;34m,\u001b[0m \u001b[0max\u001b[0m\u001b[0;34m=\u001b[0m\u001b[0max\u001b[0m\u001b[0;34m)\u001b[0m\u001b[0;34m\u001b[0m\u001b[0;34m\u001b[0m\u001b[0m\n",
      "\u001b[0;32m~/public/myenv/lib64/python3.6/site-packages/mplhep/plot.py\u001b[0m in \u001b[0;36mhistplot\u001b[0;34m(H, bins, yerr, w2, w2method, stack, density, binwnorm, histtype, label, edges, binticks, ax, **kwargs)\u001b[0m\n\u001b[1;32m    151\u001b[0m     \u001b[0;32massert\u001b[0m \u001b[0mhisttype\u001b[0m \u001b[0;32min\u001b[0m \u001b[0m_allowed_histtype\u001b[0m\u001b[0;34m,\u001b[0m \u001b[0m_err_message\u001b[0m\u001b[0;34m\u001b[0m\u001b[0;34m\u001b[0m\u001b[0m\n\u001b[1;32m    152\u001b[0m \u001b[0;34m\u001b[0m\u001b[0m\n\u001b[0;32m--> 153\u001b[0;31m     \u001b[0mhists\u001b[0m \u001b[0;34m=\u001b[0m \u001b[0mlist\u001b[0m\u001b[0;34m(\u001b[0m\u001b[0mprocess_histogram_parts\u001b[0m\u001b[0;34m(\u001b[0m\u001b[0mH\u001b[0m\u001b[0;34m,\u001b[0m \u001b[0mbins\u001b[0m\u001b[0;34m)\u001b[0m\u001b[0;34m)\u001b[0m\u001b[0;34m\u001b[0m\u001b[0;34m\u001b[0m\u001b[0m\n\u001b[0m\u001b[1;32m    154\u001b[0m     \u001b[0mfinal_bins\u001b[0m \u001b[0;34m=\u001b[0m \u001b[0mget_plottable_protocol_bins\u001b[0m\u001b[0;34m(\u001b[0m\u001b[0mhists\u001b[0m\u001b[0;34m[\u001b[0m\u001b[0;36m0\u001b[0m\u001b[0;34m]\u001b[0m\u001b[0;34m.\u001b[0m\u001b[0maxes\u001b[0m\u001b[0;34m[\u001b[0m\u001b[0;36m0\u001b[0m\u001b[0;34m]\u001b[0m\u001b[0;34m)\u001b[0m\u001b[0;34m\u001b[0m\u001b[0;34m\u001b[0m\u001b[0m\n\u001b[1;32m    155\u001b[0m \u001b[0;34m\u001b[0m\u001b[0m\n",
      "\u001b[0;32m~/public/myenv/lib64/python3.6/site-packages/mplhep/utils.py\u001b[0m in \u001b[0;36m_process_histogram_parts_iter\u001b[0;34m(hists, *bins)\u001b[0m\n\u001b[1;32m    218\u001b[0m             \u001b[0;32mif\u001b[0m \u001b[0mdiff_lengths\u001b[0m \u001b[0;32mor\u001b[0m \u001b[0;32mnot\u001b[0m \u001b[0mnp\u001b[0m\u001b[0;34m.\u001b[0m\u001b[0mallclose\u001b[0m\u001b[0;34m(\u001b[0m\u001b[0moriginal_bins\u001b[0m\u001b[0;34m[\u001b[0m\u001b[0mi\u001b[0m\u001b[0;34m]\u001b[0m\u001b[0;34m,\u001b[0m \u001b[0mcurrent_bins\u001b[0m\u001b[0;34m[\u001b[0m\u001b[0mi\u001b[0m\u001b[0;34m]\u001b[0m\u001b[0;34m)\u001b[0m\u001b[0;34m:\u001b[0m\u001b[0;34m\u001b[0m\u001b[0;34m\u001b[0m\u001b[0m\n\u001b[1;32m    219\u001b[0m                 \u001b[0mmsg\u001b[0m \u001b[0;34m=\u001b[0m \u001b[0;34m\"Plotting multiple histograms with different binning is not supported\"\u001b[0m\u001b[0;34m\u001b[0m\u001b[0;34m\u001b[0m\u001b[0m\n\u001b[0;32m--> 220\u001b[0;31m                 \u001b[0;32mraise\u001b[0m \u001b[0mValueError\u001b[0m\u001b[0;34m(\u001b[0m\u001b[0mmsg\u001b[0m\u001b[0;34m)\u001b[0m\u001b[0;34m\u001b[0m\u001b[0;34m\u001b[0m\u001b[0m\n\u001b[0m\u001b[1;32m    221\u001b[0m \u001b[0;34m\u001b[0m\u001b[0m\n\u001b[1;32m    222\u001b[0m         \u001b[0;32myield\u001b[0m \u001b[0mh\u001b[0m\u001b[0;34m\u001b[0m\u001b[0;34m\u001b[0m\u001b[0m\n",
      "\u001b[0;31mValueError\u001b[0m: Plotting multiple histograms with different binning is not supported"
     ]
    },
    {
     "data": {
      "image/png": "[encoded data removed]",
      "text/plain": [
       "<Figure size 432x288 with 1 Axes>"
      ]
     },
     "metadata": {
      "needs_background": "light"
     },
     "output_type": "display_data"
    }
   ],
   "source": [
    "histogram = bh.Histogram(bh.axis.Variable(edges))\n",
    "histogram.fill(centres, weight=values)\n",
    "\n",
    "obj = Histo1D(histogram, \"name1\")\n",
    "\n",
    "# obj.bin_conts, obj.bin_edges, obj.bin_centers\n",
    "obj.display()"
   ]
  }
 ],
 "metadata": {
  "kernelspec": {
   "display_name": "Python 3",
   "language": "python",
   "name": "python3"
  },
  "language_info": {
   "codemirror_mode": {
    "name": "ipython",
    "version": 3
   },
   "file_extension": ".py",
   "mimetype": "text/x-python",
   "name": "python",
   "nbconvert_exporter": "python",
   "pygments_lexer": "ipython3",
   "version": "3.6.8"
  }
 },
 "nbformat": 4,
 "nbformat_minor": 5
}
