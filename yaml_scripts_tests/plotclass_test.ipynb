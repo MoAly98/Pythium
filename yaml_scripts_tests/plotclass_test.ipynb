{
 "cells": [
  {
   "cell_type": "code",
   "execution_count": 1,
   "id": "17702bd8-794c-4ca0-8036-9fde399bc073",
   "metadata": {},
   "outputs": [],
   "source": [
    "from yamlscript_histdata import histdata_parser\n",
    "import mplhep as hep\n",
    "import matplotlib.pyplot as plt\n",
    "import pandas as pd\n",
    "import boost_histogram as bh\n",
    "import numpy as np\n",
    "import logging"
   ]
  },
  {
   "cell_type": "raw",
   "id": "9f11d26f-f1d2-40f6-9aa8-efd1422c12f0",
   "metadata": {
    "tags": []
   },
   "source": [
    "the desired use case:\n",
    "\n",
    "                        ┌--> this is a boost-histogram object for now\n",
    "                        |\n",
    "histo1 = Hist1D(histogram-object, title, fill=True, color)\n",
    "histo1.make_grid()\n",
    "histo1.axis.set_xaxis(hide=True)\n",
    "histo1.axis.set_yaxis(axis-name)\n",
    "histo1.title_loc(where)\n",
    "histo1.display() -> this will draw the plot using mplhep\n",
    "\n",
    "histo2 = PullPlotHist(histogram-object, title, color1, color2) -> the pull plot will be a sideways histogram\n",
    "histo1.make_grid()\n",
    "histo2.line.set_linewidth(number)\n",
    "histo2.marker.set_markersize(number)\n",
    "histo2.title_loc(where)\n",
    "histo2.display()\n",
    "\n",
    "histo3 = CorrMatrix(histogram-object, title, color_palette)\n",
    "histo3.set_fontsize(number) -> size of numbers inside the corr matrix\n",
    "histo3.line.set_style('--') -> style of lines that separate each element in the matrix\n",
    "histo3.display()"
   ]
  },
  {
   "cell_type": "raw",
   "id": "4f1c3a26-c1f6-4261-a91d-8ef691c3dddf",
   "metadata": {
    "tags": []
   },
   "source": [
    "class BasicHisto(object): # inherit from object to make it a new-style class\n",
    "    \n",
    "    def __init__(self, bh, name=None, title=None):\n",
    "        \n",
    "        self.name = name\n",
    "        self.title = title\n",
    "        \n",
    "        self.axes = bh.axes\n",
    "        self.bin_conts = bh.values().tolist()\n",
    "        self.bin_edges = bh.axes.edges[0]\n",
    "        self.bin_centers = bh.axes.centers[0]\n",
    "    \n",
    "    \n",
    "class Histo1D(BasicHisto):\n",
    "    \n",
    "    def __init__(self, bh, name=None, title=None, htype=None):\n",
    "        super().__init__(bh, name=name, title=title)\n",
    "        self.type = htype\n",
    "\n",
    "    def display(self, ax=None):    \n",
    "        hep.histplot(self.bin_conts, self.bin_edges, histtype=self.type, ax=ax)"
   ]
  },
  {
   "cell_type": "raw",
   "id": "246cd8bc-cef6-4550-9b3e-b646da3aa59d",
   "metadata": {
    "tags": []
   },
   "source": [
    "new use case\n",
    "\n",
    "histo1 = PythPlot(title, \"basic\")\n",
    "histo1.put(histo_obj)\n",
    "histo1.display()\n",
    "\n",
    "histo2 = PythPlot(title, \"ratio\")\n",
    "histo2.put(histo_obj)\n",
    "histo2.display()\n",
    "\n",
    "histo3 = PyhtPlot(title, \"corrmatrix\")\n",
    "histo3.put(histo_obj)\n",
    "histo3.display()"
   ]
  },
  {
   "cell_type": "code",
   "execution_count": 2,
   "id": "0d0337ad-acbd-4a07-ae60-40cfd6de06fa",
   "metadata": {
    "tags": []
   },
   "outputs": [
    {
     "name": "stdout",
     "output_type": "stream",
     "text": [
      "histdata_parser ran in 34 ms.\n"
     ]
    }
   ],
   "source": [
    "df1, df2 = histdata_parser(\"CR_ttc_prefit.yaml\")"
   ]
  },
  {
   "cell_type": "code",
   "execution_count": 3,
   "id": "90d0cc6b-003e-4c64-9de9-08d9f82cf30f",
   "metadata": {},
   "outputs": [],
   "source": [
    "# df1"
   ]
  },
  {
   "cell_type": "code",
   "execution_count": 4,
   "id": "85e0cbcc-47b9-4ec1-b4f2-c2f05e229b8b",
   "metadata": {
    "tags": []
   },
   "outputs": [],
   "source": [
    "def latex_converter(input_obj):\n",
    "\n",
    "    # to convert one string\n",
    "    if isinstance(input_obj, str):\n",
    "        return '$' + input_obj.replace('#', '\\\\') + '$'\n",
    "\n",
    "    # to convert a df column\n",
    "    else:\n",
    "        return '$' + input_obj.replace('#', '\\\\\\\\', regex=True) + '$'"
   ]
  },
  {
   "cell_type": "code",
   "execution_count": 5,
   "id": "0507f518-bcbe-45d7-90b9-30110140523d",
   "metadata": {
    "tags": []
   },
   "outputs": [],
   "source": [
    "values = df1.loc[['Samples'],'Yield'][2]\n",
    "edges = df2.loc[['BinEdges'],0][0]\n",
    "centres = 0.5*(np.array(edges[1:]) + np.array(edges[:-1]))\n",
    "\n",
    "hist_list = list(reversed(df1.loc[['Samples'], 'Yield'].tolist()))\n",
    "total_yield = df1.loc[['Total'],'Yield'][0]\n",
    "data_yield = df1.loc[['Data'],'Yield'][0]"
   ]
  },
  {
   "cell_type": "code",
   "execution_count": 6,
   "id": "34cb1957-d194-45a8-8cfb-ff308e810296",
   "metadata": {
    "tags": []
   },
   "outputs": [
    {
     "data": {
      "text/plain": [
       "Histogram(Variable([0, 0.2596, 0.2928, 0.3119, 0.328, 0.3417, 0.3554, 0.37, 0.3872, 0.412, 1]), storage=Double()) # Sum: 13085.293808531815"
      ]
     },
     "execution_count": 6,
     "metadata": {},
     "output_type": "execute_result"
    }
   ],
   "source": [
    "histogram = bh.Histogram(bh.axis.Variable(edges))\n",
    "histogram.fill(centres, weight=values)"
   ]
  },
  {
   "cell_type": "code",
   "execution_count": 33,
   "id": "f7841afc-c654-414f-8b47-ef7b5d37cd7a",
   "metadata": {},
   "outputs": [],
   "source": [
    "class EmptyPlot():\n",
    "    \n",
    "    def __init__(self, title=None, layout=(1,1), size=(6.4,4.8)):\n",
    "        \n",
    "        self.title = title\n",
    "        self.layout = layout\n",
    "        self.size = size\n",
    "        \n",
    "        ### these should be retrived from filled object -------------\n",
    "        self.histlistedges = df2.loc[['BinEdges'],0][0]\n",
    "        self.histlisttotal = df1.loc[['Total'],'Yield'][0]\n",
    "        self.histlistdata = df1.loc[['Data'],'Yield'][0]\n",
    "        self.histlistlabels = ['$' + x.replace('#', '\\\\') + '$' for x in df1.index.get_level_values(1).tolist()]\n",
    "        ### ---------------------------------------------------------\n",
    "        \n",
    "        self.container1d = []\n",
    "        self.container2d = []\n",
    "\n",
    "    def create_canvas(self):\n",
    "        self.fig, self.axs = plt.subplots(self.layout[0], self.layout[1], figsize=self.size, sharex=True, gridspec_kw={'height_ratios': [2,1], 'hspace': 0})\n",
    "    \n",
    "    def get_binedges1d(self, hist_index):\n",
    "        if self.container1d: # if not empty\n",
    "            return self.container1d[hist_index].axes.edges[0]\n",
    "    \n",
    "    def get_bincontents1d(self, hist_index):\n",
    "        if self.container1d:\n",
    "            return self.container1d[hist_index].values().tolist()\n",
    "\n",
    "\n",
    "class PythHist1(EmptyPlot):\n",
    "    \n",
    "    def __init__(self, title=None, layout=(1,1), size=(6.4,4.8)):\n",
    "        \n",
    "        super().__init__(title, layout, size)\n",
    "        self.isobjlist = False\n",
    "        self.create_canvas()\n",
    "        \n",
    "    def fill(self, obj, **kwargs): # kwargs = boost histogram optional arguments\n",
    "        self.container1d.append(obj)\n",
    "        for key, arg in kwargs.items():\n",
    "            setattr(self, key, arg)\n",
    "        \n",
    "        if isinstance(obj, list): # check if obj is a list\n",
    "            self.isobjlist = True\n",
    "    \n",
    "    def display(self):\n",
    "        if self.isobjlist: # if obj is list, stack them by default\n",
    "            hep.histplot(self.container1d[0], ax=self.axs, bins=self.histlistedges, stack=True, edgecolor='k') # axs has only one value\n",
    "        else:\n",
    "            hep.histplot(self.container1d[0], ax=self.axs, edgecolor='k')\n",
    "        self.axs.set_title(self.title)\n",
    "\n",
    "\n",
    "class PythRatio(EmptyPlot):\n",
    "    \n",
    "    # the lower part in the ratio plot is the data divided by the total hist cont\n",
    "                 \n",
    "    def __init__(self, figtitle=None, titletop=None, titlebot=None, layout=(2,1), size=(4,6)):\n",
    "        \n",
    "        super().__init__(figtitle, layout, size)\n",
    "        self.create_canvas()\n",
    "        self.topfig = self.axs[0]\n",
    "        self.botfig = self.axs[1]\n",
    "        self.h1 = EmptyPlot(titletop, size=(2,2))\n",
    "        self.h2 = EmptyPlot(titlebot, size=(2,2))\n",
    "        self.ratiovalues = [i/j for i, j in zip(self.histlistdata, self.histlisttotal)]\n",
    "        \n",
    "    def fill(self, obj):\n",
    "        self.h1.container1d.append(obj)\n",
    "        self.h2.container1d.append(obj)\n",
    "        \n",
    "    def display(self):\n",
    "        \n",
    "        # top figure\n",
    "        hep.histplot(self.h1.container1d[0], ax=self.topfig, bins=self.histlistedges, stack=True, fill=True, label=self.histlistlabels)\n",
    "        hep.histplot(self.histlistdata, ax=self.topfig, bins=self.histlistedges, histtype='errorbar', color='k')\n",
    "        self.topfig.set(xticklabels=[])  # remove the tick labels\n",
    "        self.topfig.tick_params(bottom=False)  # remove the ticks\n",
    "        self.topfig.set_ylim([0, 12_000])\n",
    "        self.topfig.set_title(self.h1.title)\n",
    "        self.topfig.legend(ncol=int(len(self.histlistlabels)/5))\n",
    "\n",
    "        # bottom figure\n",
    "        hep.histplot(self.ratiovalues, ax=self.botfig, bins=self.histlistedges, histtype='errorbar', color='k')\n",
    "        self.botfig.set_ylim([0.5, 1.5])\n",
    "        self.botfig.axhline(1, color='k', linestyle='--')\n",
    "        self.botfig.set_title(self.h2.title)\n",
    "        \n",
    "        # overall figure\n",
    "        self.fig.suptitle(self.title)"
   ]
  },
  {
   "cell_type": "code",
   "execution_count": 34,
   "id": "866a695b-a2c1-4146-935e-c9dcaada1f15",
   "metadata": {},
   "outputs": [
    {
     "data": {
      "image/png": "[encoded data removed]",
      "text/plain": [
       "<Figure size 720x576 with 2 Axes>"
      ]
     },
     "metadata": {
      "needs_background": "light"
     },
     "output_type": "display_data"
    }
   ],
   "source": [
    "obj1 = PythRatio(\"figtitle\", \"title1\", \"\", size=(10,8))\n",
    "obj1.fill(hist_list)\n",
    "obj1.display()\n",
    "\n",
    "# obj2 = PythHist1(\"bella zi\", size=(12,8))\n",
    "# obj2.fill(hist_list)\n",
    "# obj2.display()\n",
    "\n",
    "# obj3 = PythHist1(\"ciaoooo\", size=(12,8))\n",
    "# obj3.fill(histogram)\n",
    "# obj3.display()"
   ]
  }
 ],
 "metadata": {
  "kernelspec": {
   "display_name": "Python 3 (ipykernel)",
   "language": "python",
   "name": "python3"
  },
  "language_info": {
   "codemirror_mode": {
    "name": "ipython",
    "version": 3
   },
   "file_extension": ".py",
   "mimetype": "text/x-python",
   "name": "python",
   "nbconvert_exporter": "python",
   "pygments_lexer": "ipython3",
   "version": "3.8.11"
  }
 },
 "nbformat": 4,
 "nbformat_minor": 5
}
