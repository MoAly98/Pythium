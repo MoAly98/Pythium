{
 "cells": [
  {
   "cell_type": "code",
   "execution_count": 1,
   "id": "17702bd8-794c-4ca0-8036-9fde399bc073",
   "metadata": {},
   "outputs": [],
   "source": [
    "from yamlscript_histdata import histdata_parser\n",
    "import mplhep as hep\n",
    "import matplotlib.pyplot as plt\n",
    "import pandas as pd\n",
    "import boost_histogram as bh\n",
    "import numpy as np"
   ]
  },
  {
   "cell_type": "code",
   "execution_count": 2,
   "id": "0d0337ad-acbd-4a07-ae60-40cfd6de06fa",
   "metadata": {},
   "outputs": [
    {
     "name": "stdout",
     "output_type": "stream",
     "text": [
      "histdata_parser ran in 0.07391658192500472 seconds.\n"
     ]
    }
   ],
   "source": [
    "df1, df2 = histdata_parser(\"CR_ttc_prefit.yaml\")"
   ]
  },
  {
   "cell_type": "code",
   "execution_count": 3,
   "id": "0507f518-bcbe-45d7-90b9-30110140523d",
   "metadata": {},
   "outputs": [],
   "source": [
    "values = df1.loc[['Samples'], 'Yield'][2]\n",
    "edges = df2.loc[['BinEdges'], 0][0]\n",
    "\n",
    "centres = 0.5*(np.array(edges[1:]) + np.array(edges[:-1]))"
   ]
  },
  {
   "cell_type": "code",
   "execution_count": 4,
   "id": "754d7518-6ee8-4c76-9ede-65ca8269d209",
   "metadata": {},
   "outputs": [
    {
     "data": {
      "text/plain": [
       "[StepArtists(step=<matplotlib.lines.Line2D object at 0x7f32b7c26198>, errorbar=None, legend_artist=None)]"
      ]
     },
     "execution_count": 4,
     "metadata": {},
     "output_type": "execute_result"
    },
    {
     "data": {
      "image/png": "[encoded data removed]",
      "text/plain": [
       "<Figure size 432x288 with 1 Axes>"
      ]
     },
     "metadata": {
      "needs_background": "light"
     },
     "output_type": "display_data"
    }
   ],
   "source": [
    "histogram = bh.Histogram(bh.axis.Variable(edges))\n",
    "histogram.fill(centres, weight=values)\n",
    "\n",
    "hep.histplot(histogram)\n",
    "\n",
    "# canvas.plot(<mpl_hist>)"
   ]
  },
  {
   "cell_type": "code",
   "execution_count": 5,
   "id": "cebd7191-9bed-4e06-8d0d-0f326364e4a8",
   "metadata": {},
   "outputs": [],
   "source": [
    "class BasicHisto(object): # inherit from object to make it a new-style class\n",
    "    \n",
    "    def __init__(self, name=None, title=None, **kwargs):\n",
    "        \n",
    "        # add plotting objects (histogram, axes, labels etc.) passed in kwargs\n",
    "        self.name = name\n",
    "        self.title = title\n",
    "        pass"
   ]
  },
  {
   "cell_type": "code",
   "execution_count": 6,
   "id": "532dc438-9e29-4c33-8a58-d09048096882",
   "metadata": {},
   "outputs": [
    {
     "data": {
      "text/plain": [
       "0"
      ]
     },
     "execution_count": 6,
     "metadata": {},
     "output_type": "execute_result"
    }
   ],
   "source": [
    "obj = BasicHisto()\n",
    "# obj.testfunc()"
   ]
  }
 ],
 "metadata": {
  "kernelspec": {
   "display_name": "Python 3",
   "language": "python",
   "name": "python3"
  },
  "language_info": {
   "codemirror_mode": {
    "name": "ipython",
    "version": 3
   },
   "file_extension": ".py",
   "mimetype": "text/x-python",
   "name": "python",
   "nbconvert_exporter": "python",
   "pygments_lexer": "ipython3",
   "version": "3.6.8"
  }
 },
 "nbformat": 4,
 "nbformat_minor": 5
}
