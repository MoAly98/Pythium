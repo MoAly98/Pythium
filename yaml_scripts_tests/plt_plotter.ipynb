{
 "cells": [
  {
   "cell_type": "code",
   "execution_count": 1,
   "id": "7624d0d2-78a8-4e15-b4ae-943084e078a5",
   "metadata": {
    "tags": []
   },
   "outputs": [],
   "source": [
    "import yaml\n",
    "import pandas as pd\n",
    "import matplotlib.pyplot as plt\n",
    "import numpy as np"
   ]
  },
  {
   "cell_type": "code",
   "execution_count": 2,
   "id": "b1454dcd-3cb4-4be3-895e-30b513039231",
   "metadata": {},
   "outputs": [],
   "source": [
    "# file_name = \"CR_ttb_prefit.yaml\"\n",
    "file_name = \"CR_ttc_prefit.yaml\""
   ]
  },
  {
   "cell_type": "code",
   "execution_count": 3,
   "id": "c23eb8b8-efc5-48f0-9b78-df36921a8212",
   "metadata": {},
   "outputs": [],
   "source": [
    "with open(file_name, \"r\") as stream:\n",
    "    dictionary = yaml.full_load(stream)\n",
    "\n",
    "    # convert dictionaries into dfs\n",
    "    samples_df = pd.DataFrame(dictionary['Samples'])\n",
    "    total_df = pd.DataFrame(dictionary['Total']).T\n",
    "    data_df = pd.DataFrame(dictionary['Data']).T\n",
    "    figure_df = pd.DataFrame(dictionary['Figure']).T\n",
    "\n",
    "    samples_df.set_index('Name', inplace=True)\n",
    "    # set column name of total_df and data_df to 'Yield' to match samples_df\n",
    "    total_df.rename(columns={0:'Yield'}, inplace=True)\n",
    "    data_df.rename(columns={0:'Yield'}, inplace=True)\n",
    "\n",
    "    # merge them with multi-indexing\n",
    "    result = pd.concat([samples_df, total_df, data_df], keys=['Samples', 'Total', 'Data'])"
   ]
  },
  {
   "cell_type": "code",
   "execution_count": 4,
   "id": "0abb5c10-ad4d-48cd-b22c-bd53e73778d9",
   "metadata": {},
   "outputs": [],
   "source": [
    "# # at this point, rows in sum are list of 10 numbers, each corresponding\n",
    "# # to a different yield -> need to split them and put them into individual columns\n",
    "# temp_df = pd.DataFrame(result['Yield'].to_list(), columns=[f\"Yield_{i}\" for i in range(len(result.iloc[0][0]))])\n",
    "# # match index of temp_df and sum to allow concat later\n",
    "# temp_df.set_index(result.index, inplace=True)\n",
    "# result = pd.concat([result, temp_df], axis=1).drop('Yield', axis=1)"
   ]
  },
  {
   "cell_type": "code",
   "execution_count": 5,
   "id": "7e9b723f-a819-478c-9a7d-dc99c92e7420",
   "metadata": {},
   "outputs": [
    {
     "data": {
      "text/plain": [
       "[827.5826665452911,\n",
       " 805.426846012266,\n",
       " 826.1614268385684,\n",
       " 826.1363081308623,\n",
       " 840.6187776963856,\n",
       " 849.9563379690394,\n",
       " 863.3908776550447,\n",
       " 871.4519829633153,\n",
       " 878.3093688851706,\n",
       " 867.5428671883344]"
      ]
     },
     "execution_count": 5,
     "metadata": {},
     "output_type": "execute_result"
    }
   ],
   "source": [
    "result.loc[['Total']].iloc[1,0]"
   ]
  },
  {
   "cell_type": "code",
   "execution_count": 6,
   "id": "fcc8ad17-413b-42ca-967d-f617b5f551a3",
   "metadata": {},
   "outputs": [
    {
     "data": {
      "text/html": [
       "<div>\n",
       "<style scoped>\n",
       "    .dataframe tbody tr th:only-of-type {\n",
       "        vertical-align: middle;\n",
       "    }\n",
       "\n",
       "    .dataframe tbody tr th {\n",
       "        vertical-align: top;\n",
       "    }\n",
       "\n",
       "    .dataframe thead th {\n",
       "        text-align: right;\n",
       "    }\n",
       "</style>\n",
       "<table border=\"1\" class=\"dataframe\">\n",
       "  <thead>\n",
       "    <tr style=\"text-align: right;\">\n",
       "      <th></th>\n",
       "      <th>0</th>\n",
       "    </tr>\n",
       "  </thead>\n",
       "  <tbody>\n",
       "    <tr>\n",
       "      <th>BinEdges</th>\n",
       "      <td>[0, 0.2596, 0.2928, 0.3119, 0.3279999999999999...</td>\n",
       "    </tr>\n",
       "    <tr>\n",
       "      <th>XaxisLabel</th>\n",
       "      <td>BDT(t#bar{t} + #geq1c)</td>\n",
       "    </tr>\n",
       "    <tr>\n",
       "      <th>YaxisLabel</th>\n",
       "      <td></td>\n",
       "    </tr>\n",
       "  </tbody>\n",
       "</table>\n",
       "</div>"
      ],
      "text/plain": [
       "                                                            0\n",
       "BinEdges    [0, 0.2596, 0.2928, 0.3119, 0.3279999999999999...\n",
       "XaxisLabel                             BDT(t#bar{t} + #geq1c)\n",
       "YaxisLabel                                                   "
      ]
     },
     "execution_count": 6,
     "metadata": {},
     "output_type": "execute_result"
    }
   ],
   "source": [
    "figure_df"
   ]
  },
  {
   "cell_type": "code",
   "execution_count": 7,
   "id": "5b473767-d09f-4ac3-a3af-2ba1d09c946f",
   "metadata": {},
   "outputs": [],
   "source": [
    "bin_edges = figure_df.iloc[0][0]\n",
    "centres = []\n",
    "widths = []\n",
    "\n",
    "for i, val in enumerate(bin_edges):\n",
    "    try:\n",
    "        x = val # current value\n",
    "        y = bin_edges[i+1] # next value\n",
    "        diff = y - x\n",
    "        widths.append(diff)\n",
    "        centres.append(x + 0.5*(diff))\n",
    "    except:\n",
    "        continue"
   ]
  },
  {
   "cell_type": "code",
   "execution_count": 8,
   "id": "99d8eb1c-6ca6-4c54-903f-d9c7bd27ab18",
   "metadata": {},
   "outputs": [
    {
     "data": {
      "text/plain": [
       "[0.2596,\n",
       " 0.03320000000000001,\n",
       " 0.019100000000000006,\n",
       " 0.016099999999999948,\n",
       " 0.013700000000000045,\n",
       " 0.013700000000000045,\n",
       " 0.014599999999999946,\n",
       " 0.017199999999999993,\n",
       " 0.024799999999999933,\n",
       " 0.5880000000000001]"
      ]
     },
     "execution_count": 8,
     "metadata": {},
     "output_type": "execute_result"
    }
   ],
   "source": [
    "widths"
   ]
  },
  {
   "cell_type": "code",
   "execution_count": 9,
   "id": "9011bf9b-3ca1-4cab-8ec3-1a6502ec66c7",
   "metadata": {},
   "outputs": [],
   "source": [
    "source = result.loc[['Samples']] # list of units to be stacked\n",
    "pct_max = 99 # for example, max percentile of color ramp\n",
    "pct_min = 1 # for example, min percentile of color ramp\n",
    "ramp = plt.cm.plasma # for example\n",
    "\n",
    "# number of items in data source\n",
    "n = len(source)\n",
    "\n",
    "# list of values between 0.00 and 1.00; length equals length of data source\n",
    "n_prop = list(i / 100.0 for i in (np.arange(pct_min, pct_max, (pct_max-pct_min)/n)))\n",
    "\n",
    "# create list of colors\n",
    "color_list = []\n",
    "for i in n_prop:\n",
    "    clr = ramp(i) \n",
    "    color_list.append(clr)"
   ]
  },
  {
   "cell_type": "code",
   "execution_count": 10,
   "id": "ed1b3e2b-7f7f-4516-96d7-edafb2ad3854",
   "metadata": {},
   "outputs": [
    {
     "data": {
      "text/plain": [
       "<matplotlib.legend.Legend at 0x7feb53eb9940>"
      ]
     },
     "execution_count": 10,
     "metadata": {},
     "output_type": "execute_result"
    },
    {
     "data": {
      "image/png": "[encoded data removed]",
      "text/plain": [
       "<Figure size 864x576 with 1 Axes>"
      ]
     },
     "metadata": {
      "needs_background": "light"
     },
     "output_type": "display_data"
    }
   ],
   "source": [
    "# nbins = 10\n",
    "# result.plot.bar(stacked=True)\n",
    "\n",
    "# ax.hist(list(range(1, len(row)+1)), len(row), weights=row)\n",
    "# ax.set_title(result.index[i][0] + \" \" + result.index[i][1])\n",
    "fig, ax = plt.subplots(figsize=(12,8))\n",
    "\n",
    "sum_list = [0]*10\n",
    "for i, row in reversed(list(enumerate(result['Yield']))):\n",
    "    if result.index[i][0] == 'Samples':\n",
    "        ax.bar(centres, row, width=widths, bottom=sum_list, label=result.index[i][1], edgecolor='k', color=color_list[i])\n",
    "        sum_list = [sum(a) for a in zip(sum_list, row)]\n",
    "\n",
    "ax.scatter(centres, result.loc[['Data']].iloc[0,0], color='k', s=200) # real data\n",
    "\n",
    "total_bars = result.loc[['Total']].iloc[0,0] # heiht of all bars summed up\n",
    "ax.bar(centres, result.loc[['Total']].iloc[1,0], width=widths, bottom=total_bars, fill=False, linewidth=0, alpha=0.5, hatch='///', label=\"Uncertainty on Total\")\n",
    "ax.bar(centres, result.loc[['Total']].iloc[2,0], width=widths, bottom=total_bars, fill=False, linewidth=0, alpha=0.5, hatch='///')\n",
    "\n",
    "ax.set_ylabel(\"Events\", fontsize=15)\n",
    "ax.tick_params(axis='x', labelsize=12)\n",
    "ax.tick_params(axis='y', labelsize=12)\n",
    "\n",
    "ax.legend()"
   ]
  }
 ],
 "metadata": {
  "kernelspec": {
   "display_name": "Python 3",
   "language": "python",
   "name": "python3"
  },
  "language_info": {
   "codemirror_mode": {
    "name": "ipython",
    "version": 3
   },
   "file_extension": ".py",
   "mimetype": "text/x-python",
   "name": "python",
   "nbconvert_exporter": "python",
   "pygments_lexer": "ipython3",
   "version": "3.6.8"
  }
 },
 "nbformat": 4,
 "nbformat_minor": 5
}
