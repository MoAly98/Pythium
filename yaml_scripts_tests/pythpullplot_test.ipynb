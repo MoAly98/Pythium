{
 "cells": [
  {
   "cell_type": "code",
   "execution_count": 37,
   "id": "b7195440-c44b-4ab7-ba63-a51b61af3c3b",
   "metadata": {},
   "outputs": [],
   "source": [
    "from textfile_data import txt_parser\n",
    "import matplotlib.pyplot as plt\n",
    "import matplotlib as mpl\n",
    "import numpy as np\n",
    "import mplhep as hep\n",
    "import boost_histogram as bh\n",
    "from plot_classes import EmptyPlot\n",
    "from matplotlib import transforms"
   ]
  },
  {
   "cell_type": "code",
   "execution_count": 30,
   "id": "bfd50732-0f3f-4bc5-8e1e-9cd95cea8740",
   "metadata": {},
   "outputs": [],
   "source": [
    "data = txt_parser(\"tHbb_v31_v3.txt\")\n",
    "numeric_data = data.astype(float)\n",
    "data0      = numeric_data[numeric_data[1] == 0]\n",
    "data1      = numeric_data[(numeric_data[1] == 1) & (numeric_data.index != 'gamma_stat_SR_bin_9')]\n",
    "data_gamma = numeric_data[numeric_data.index == 'gamma_stat_SR_bin_9']"
   ]
  },
  {
   "cell_type": "raw",
   "id": "ee3cf681-b085-457c-85d5-2473ec6dc04e",
   "metadata": {},
   "source": [
    "data_gamma"
   ]
  },
  {
   "cell_type": "code",
   "execution_count": 81,
   "id": "b6ea40ff-0105-4793-9781-cf608dea5201",
   "metadata": {},
   "outputs": [],
   "source": [
    "class PythPullPlot(EmptyPlot):\n",
    "\n",
    "    def __init__(self, **kwargs):        \n",
    "\n",
    "        super().__init__(**kwargs)\n",
    "        self.create_canvas()\n",
    "        self.make_grid()\n",
    "        self.ax = self.make_subplot(0, 1, 0, 1)\n",
    "        self.set_color() # set default colormap\n",
    "\n",
    "    def fill(self, obj):\n",
    "        self.container1d.append(obj)\n",
    "        self.store_data()\n",
    "    \n",
    "    def store_data(self):\n",
    "        self.values      = [self.container1d[0][1][i] for i in range(len(self.container1d[0]))]\n",
    "        self.right_bins  = [self.container1d[0][2][i] for i in range(len(self.container1d[0]))]\n",
    "        self.left_bins   = [self.container1d[0][3][i] for i in range(len(self.container1d[0]))]\n",
    "        self.data_labels = self.container1d[0].index.to_list()\n",
    "    \n",
    "    def pull_plot(self, obj):\n",
    "        # hep.histplot([self.values, self.right_bins, self.left_bins], stack=True, histtype='fill', orientation='horizontal')\n",
    "        \"\"\"\n",
    "        cannot simply use hep functions so need to manually create the pull plot\n",
    "        \"\"\"\n",
    "        self.config_rcParams({'lines.markersize': 2}) # why does this not work at run time???? (for user)\n",
    "\n",
    "        yvalues = np.arange(0, len(self.values))\n",
    "        self.ax.scatter(self.values, yvalues, color='k')\n",
    "        \n",
    "        for i, y in enumerate(yvalues):\n",
    "            self.ax.plot([self.left_bins[i], self.right_bins[i]], [y, y], color='k', lw=0.5)        \n",
    "        \n",
    "    def display(self, *save_name):\n",
    "        self.pull_plot(self.container1d[0])\n",
    "        \n",
    "        if save_name:\n",
    "            self.saveimage(save_name)"
   ]
  },
  {
   "cell_type": "raw",
   "id": "76d1464e-6654-475e-aeb4-20194d8374bd",
   "metadata": {},
   "source": [
    "\"\"\"\n",
    "TRY TO USE TRANSFORM\n",
    "\"\"\"\n",
    "\n",
    "class PythPullPlot(EmptyPlot):\n",
    "\n",
    "    def __init__(self, **kwargs):        \n",
    "\n",
    "        super().__init__(**kwargs)\n",
    "        self.create_canvas()\n",
    "        self.make_grid()\n",
    "        self.ax = self.make_subplot(0, 1, 0, 1)\n",
    "        self.set_color() # set default colormap\n",
    "\n",
    "    def fill(self, obj):\n",
    "        self.container1d.append(obj)\n",
    "        self.store_data()\n",
    "    \n",
    "    def store_data(self):\n",
    "        self.values      = [self.container1d[0][1][i] for i in range(len(self.container1d[0]))]\n",
    "        self.right_bins  = [self.container1d[0][2][i] for i in range(len(self.container1d[0]))]\n",
    "        self.left_bins   = [self.container1d[0][3][i] for i in range(len(self.container1d[0]))]\n",
    "        self.data_labels = self.container1d[0].index.to_list()\n",
    "    \n",
    "    def pull_plot(self, obj):\n",
    "        self.config_rcParams({'lines.markersize': 2}) # why does this not work at run time???? (for user)\n",
    "        \n",
    "        # hep.histplot([self.values, self.right_bins, self.left_bins], histtype='errorbar', visible=False)\n",
    "\n",
    "        base = self.ax.transData\n",
    "        rot = transforms.Affine2D().rotate_deg(90)\n",
    "        yvalues = np.arange(0, len(self.values))\n",
    "        self.ax.errorbar(self.values, yvalues, yerr=[[self.left_bins[i], self.right_bins[i]] for i in range(len(self.values))])#, transform=rot+base)\n",
    "                \n",
    "    def display(self, *save_name):\n",
    "        self.pull_plot(self.container1d[0])\n",
    "        \n",
    "        if save_name:\n",
    "            self.saveimage(save_name)"
   ]
  },
  {
   "cell_type": "code",
   "execution_count": 84,
   "id": "e7378f9c-20b8-40b5-bd7f-2a88c2107204",
   "metadata": {},
   "outputs": [
    {
     "data": {
      "image/png": "[encoded data removed]",
      "text/plain": [
       "<Figure size 400x700 with 1 Axes>"
      ]
     },
     "metadata": {},
     "output_type": "display_data"
    }
   ],
   "source": [
    "hist1 = PythPullPlot(size=(4,7))\n",
    "hist1.fill(data0)\n",
    "hist1.display()"
   ]
  }
 ],
 "metadata": {
  "kernelspec": {
   "display_name": "Python 3 (ipykernel)",
   "language": "python",
   "name": "python3"
  },
  "language_info": {
   "codemirror_mode": {
    "name": "ipython",
    "version": 3
   },
   "file_extension": ".py",
   "mimetype": "text/x-python",
   "name": "python",
   "nbconvert_exporter": "python",
   "pygments_lexer": "ipython3",
   "version": "3.8.11"
  }
 },
 "nbformat": 4,
 "nbformat_minor": 5
}
